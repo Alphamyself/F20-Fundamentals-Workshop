{
  "nbformat": 4,
  "nbformat_minor": 0,
  "metadata": {
    "accelerator": "GPU",
    "colab": {
      "name": "fundamentals.ipynb",
      "provenance": [],
      "collapsed_sections": [],
      "include_colab_link": true
    },
    "kernelspec": {
      "display_name": "Python 3",
      "language": "python",
      "name": "python3"
    },
    "language_info": {
      "codemirror_mode": {
        "name": "ipython",
        "version": 3
      },
      "file_extension": ".py",
      "mimetype": "text/x-python",
      "name": "python",
      "nbconvert_exporter": "python",
      "pygments_lexer": "ipython3",
      "version": "3.8.5"
    }
  },
  "cells": [
    {
      "cell_type": "markdown",
      "metadata": {
        "id": "view-in-github",
        "colab_type": "text"
      },
      "source": [
        "<a href=\"https://colab.research.google.com/github/asifsohailmd/F20-Fundamentals-Workshop/blob/master/fundamentals.ipynb\" target=\"_parent\"><img src=\"https://colab.research.google.com/assets/colab-badge.svg\" alt=\"Open In Colab\"/></a>"
      ]
    },
    {
      "cell_type": "code",
      "metadata": {
        "colab_type": "code",
        "id": "gEVleBzkNc2N",
        "colab": {
          "base_uri": "https://localhost:8080/",
          "height": 71
        },
        "outputId": "aec9330c-cc8d-41f5-c09b-48b1d411b56a"
      },
      "source": [
        "import numpy as np\n",
        "import pandas as pd\n",
        "import seaborn as sns\n",
        "from sklearn import tree\n",
        "import matplotlib.pyplot as plt\n",
        "from sklearn.preprocessing import LabelEncoder\n",
        "from sklearn.model_selection import train_test_split\n",
        "from sklearn.naive_bayes import BernoulliNB\n",
        "from sklearn.metrics import accuracy_score"
      ],
      "execution_count": 1,
      "outputs": [
        {
          "output_type": "stream",
          "text": [
            "/usr/local/lib/python3.6/dist-packages/statsmodels/tools/_testing.py:19: FutureWarning: pandas.util.testing is deprecated. Use the functions in the public API at pandas.testing instead.\n",
            "  import pandas.util.testing as tm\n"
          ],
          "name": "stderr"
        }
      ]
    },
    {
      "cell_type": "markdown",
      "metadata": {
        "id": "iUydyxQnpPrG",
        "colab_type": "text"
      },
      "source": [
        "The following code was written by [*Asif Sohail*](https://github.com/asifsohailmd)"
      ]
    },
    {
      "cell_type": "code",
      "metadata": {
        "colab_type": "code",
        "id": "DpgXrVIKJ_L9",
        "colab": {}
      },
      "source": [
        "url = \"https://raw.githubusercontent.com/aisutd/F20-Fundamentals-Workshop/master/data/data.csv\"\n",
        "df = pd.read_csv(url)"
      ],
      "execution_count": 2,
      "outputs": []
    },
    {
      "cell_type": "code",
      "metadata": {
        "colab_type": "code",
        "id": "n_ljFcftE4IH",
        "colab": {
          "base_uri": "https://localhost:8080/",
          "height": 220
        },
        "outputId": "0dee8e07-3943-4aa6-e58a-dff4c4aa51eb"
      },
      "source": [
        "df.head()"
      ],
      "execution_count": 3,
      "outputs": [
        {
          "output_type": "execute_result",
          "data": {
            "text/html": [
              "<div>\n",
              "<style scoped>\n",
              "    .dataframe tbody tr th:only-of-type {\n",
              "        vertical-align: middle;\n",
              "    }\n",
              "\n",
              "    .dataframe tbody tr th {\n",
              "        vertical-align: top;\n",
              "    }\n",
              "\n",
              "    .dataframe thead th {\n",
              "        text-align: right;\n",
              "    }\n",
              "</style>\n",
              "<table border=\"1\" class=\"dataframe\">\n",
              "  <thead>\n",
              "    <tr style=\"text-align: right;\">\n",
              "      <th></th>\n",
              "      <th>id</th>\n",
              "      <th>diagnosis</th>\n",
              "      <th>radius_mean</th>\n",
              "      <th>texture_mean</th>\n",
              "      <th>perimeter_mean</th>\n",
              "      <th>area_mean</th>\n",
              "      <th>smoothness_mean</th>\n",
              "      <th>compactness_mean</th>\n",
              "      <th>concavity_mean</th>\n",
              "      <th>concave_points_mean</th>\n",
              "      <th>symmetry_mean</th>\n",
              "      <th>fractal_dimension_mean</th>\n",
              "      <th>radius_se</th>\n",
              "      <th>texture_se</th>\n",
              "      <th>perimeter_se</th>\n",
              "      <th>area_se</th>\n",
              "      <th>smoothness_se</th>\n",
              "      <th>compactness_se</th>\n",
              "      <th>concavity_se</th>\n",
              "      <th>concave_points_se</th>\n",
              "      <th>symmetry_se</th>\n",
              "      <th>fractal_dimension_se</th>\n",
              "      <th>radius_worst</th>\n",
              "      <th>texture_worst</th>\n",
              "      <th>perimeter_worst</th>\n",
              "      <th>area_worst</th>\n",
              "      <th>smoothness_worst</th>\n",
              "      <th>compactness_worst</th>\n",
              "      <th>concavity_worst</th>\n",
              "      <th>concave_points_worst</th>\n",
              "      <th>symmetry_worst</th>\n",
              "      <th>fractal_dimension_worst</th>\n",
              "    </tr>\n",
              "  </thead>\n",
              "  <tbody>\n",
              "    <tr>\n",
              "      <th>0</th>\n",
              "      <td>842302</td>\n",
              "      <td>M</td>\n",
              "      <td>17.99</td>\n",
              "      <td>10.38</td>\n",
              "      <td>122.80</td>\n",
              "      <td>1001.0</td>\n",
              "      <td>0.11840</td>\n",
              "      <td>0.27760</td>\n",
              "      <td>0.3001</td>\n",
              "      <td>0.14710</td>\n",
              "      <td>0.2419</td>\n",
              "      <td>0.07871</td>\n",
              "      <td>1.0950</td>\n",
              "      <td>0.9053</td>\n",
              "      <td>8.589</td>\n",
              "      <td>153.40</td>\n",
              "      <td>0.006399</td>\n",
              "      <td>0.04904</td>\n",
              "      <td>0.05373</td>\n",
              "      <td>0.01587</td>\n",
              "      <td>0.03003</td>\n",
              "      <td>0.006193</td>\n",
              "      <td>25.38</td>\n",
              "      <td>17.33</td>\n",
              "      <td>184.60</td>\n",
              "      <td>2019.0</td>\n",
              "      <td>0.1622</td>\n",
              "      <td>0.6656</td>\n",
              "      <td>0.7119</td>\n",
              "      <td>0.2654</td>\n",
              "      <td>0.4601</td>\n",
              "      <td>0.11890</td>\n",
              "    </tr>\n",
              "    <tr>\n",
              "      <th>1</th>\n",
              "      <td>842517</td>\n",
              "      <td>M</td>\n",
              "      <td>20.57</td>\n",
              "      <td>17.77</td>\n",
              "      <td>132.90</td>\n",
              "      <td>1326.0</td>\n",
              "      <td>0.08474</td>\n",
              "      <td>0.07864</td>\n",
              "      <td>0.0869</td>\n",
              "      <td>0.07017</td>\n",
              "      <td>0.1812</td>\n",
              "      <td>0.05667</td>\n",
              "      <td>0.5435</td>\n",
              "      <td>0.7339</td>\n",
              "      <td>3.398</td>\n",
              "      <td>74.08</td>\n",
              "      <td>0.005225</td>\n",
              "      <td>0.01308</td>\n",
              "      <td>0.01860</td>\n",
              "      <td>0.01340</td>\n",
              "      <td>0.01389</td>\n",
              "      <td>0.003532</td>\n",
              "      <td>24.99</td>\n",
              "      <td>23.41</td>\n",
              "      <td>158.80</td>\n",
              "      <td>1956.0</td>\n",
              "      <td>0.1238</td>\n",
              "      <td>0.1866</td>\n",
              "      <td>0.2416</td>\n",
              "      <td>0.1860</td>\n",
              "      <td>0.2750</td>\n",
              "      <td>0.08902</td>\n",
              "    </tr>\n",
              "    <tr>\n",
              "      <th>2</th>\n",
              "      <td>84300903</td>\n",
              "      <td>M</td>\n",
              "      <td>19.69</td>\n",
              "      <td>21.25</td>\n",
              "      <td>130.00</td>\n",
              "      <td>1203.0</td>\n",
              "      <td>0.10960</td>\n",
              "      <td>0.15990</td>\n",
              "      <td>0.1974</td>\n",
              "      <td>0.12790</td>\n",
              "      <td>0.2069</td>\n",
              "      <td>0.05999</td>\n",
              "      <td>0.7456</td>\n",
              "      <td>0.7869</td>\n",
              "      <td>4.585</td>\n",
              "      <td>94.03</td>\n",
              "      <td>0.006150</td>\n",
              "      <td>0.04006</td>\n",
              "      <td>0.03832</td>\n",
              "      <td>0.02058</td>\n",
              "      <td>0.02250</td>\n",
              "      <td>0.004571</td>\n",
              "      <td>23.57</td>\n",
              "      <td>25.53</td>\n",
              "      <td>152.50</td>\n",
              "      <td>1709.0</td>\n",
              "      <td>0.1444</td>\n",
              "      <td>0.4245</td>\n",
              "      <td>0.4504</td>\n",
              "      <td>0.2430</td>\n",
              "      <td>0.3613</td>\n",
              "      <td>0.08758</td>\n",
              "    </tr>\n",
              "    <tr>\n",
              "      <th>3</th>\n",
              "      <td>84348301</td>\n",
              "      <td>M</td>\n",
              "      <td>11.42</td>\n",
              "      <td>20.38</td>\n",
              "      <td>77.58</td>\n",
              "      <td>386.1</td>\n",
              "      <td>0.14250</td>\n",
              "      <td>0.28390</td>\n",
              "      <td>0.2414</td>\n",
              "      <td>0.10520</td>\n",
              "      <td>0.2597</td>\n",
              "      <td>0.09744</td>\n",
              "      <td>0.4956</td>\n",
              "      <td>1.1560</td>\n",
              "      <td>3.445</td>\n",
              "      <td>27.23</td>\n",
              "      <td>0.009110</td>\n",
              "      <td>0.07458</td>\n",
              "      <td>0.05661</td>\n",
              "      <td>0.01867</td>\n",
              "      <td>0.05963</td>\n",
              "      <td>0.009208</td>\n",
              "      <td>14.91</td>\n",
              "      <td>26.50</td>\n",
              "      <td>98.87</td>\n",
              "      <td>567.7</td>\n",
              "      <td>0.2098</td>\n",
              "      <td>0.8663</td>\n",
              "      <td>0.6869</td>\n",
              "      <td>0.2575</td>\n",
              "      <td>0.6638</td>\n",
              "      <td>0.17300</td>\n",
              "    </tr>\n",
              "    <tr>\n",
              "      <th>4</th>\n",
              "      <td>84358402</td>\n",
              "      <td>M</td>\n",
              "      <td>20.29</td>\n",
              "      <td>14.34</td>\n",
              "      <td>135.10</td>\n",
              "      <td>1297.0</td>\n",
              "      <td>0.10030</td>\n",
              "      <td>0.13280</td>\n",
              "      <td>0.1980</td>\n",
              "      <td>0.10430</td>\n",
              "      <td>0.1809</td>\n",
              "      <td>0.05883</td>\n",
              "      <td>0.7572</td>\n",
              "      <td>0.7813</td>\n",
              "      <td>5.438</td>\n",
              "      <td>94.44</td>\n",
              "      <td>0.011490</td>\n",
              "      <td>0.02461</td>\n",
              "      <td>0.05688</td>\n",
              "      <td>0.01885</td>\n",
              "      <td>0.01756</td>\n",
              "      <td>0.005115</td>\n",
              "      <td>22.54</td>\n",
              "      <td>16.67</td>\n",
              "      <td>152.20</td>\n",
              "      <td>1575.0</td>\n",
              "      <td>0.1374</td>\n",
              "      <td>0.2050</td>\n",
              "      <td>0.4000</td>\n",
              "      <td>0.1625</td>\n",
              "      <td>0.2364</td>\n",
              "      <td>0.07678</td>\n",
              "    </tr>\n",
              "  </tbody>\n",
              "</table>\n",
              "</div>"
            ],
            "text/plain": [
              "         id diagnosis  ...  symmetry_worst  fractal_dimension_worst\n",
              "0    842302         M  ...          0.4601                  0.11890\n",
              "1    842517         M  ...          0.2750                  0.08902\n",
              "2  84300903         M  ...          0.3613                  0.08758\n",
              "3  84348301         M  ...          0.6638                  0.17300\n",
              "4  84358402         M  ...          0.2364                  0.07678\n",
              "\n",
              "[5 rows x 32 columns]"
            ]
          },
          "metadata": {
            "tags": []
          },
          "execution_count": 3
        }
      ]
    },
    {
      "cell_type": "code",
      "metadata": {
        "colab_type": "code",
        "id": "tQlOWvpBE5hV",
        "scrolled": true,
        "colab": {
          "base_uri": "https://localhost:8080/",
          "height": 311
        },
        "outputId": "840409ac-9e66-470d-a582-fa43bcf2beb9"
      },
      "source": [
        "df.describe()"
      ],
      "execution_count": 4,
      "outputs": [
        {
          "output_type": "execute_result",
          "data": {
            "text/html": [
              "<div>\n",
              "<style scoped>\n",
              "    .dataframe tbody tr th:only-of-type {\n",
              "        vertical-align: middle;\n",
              "    }\n",
              "\n",
              "    .dataframe tbody tr th {\n",
              "        vertical-align: top;\n",
              "    }\n",
              "\n",
              "    .dataframe thead th {\n",
              "        text-align: right;\n",
              "    }\n",
              "</style>\n",
              "<table border=\"1\" class=\"dataframe\">\n",
              "  <thead>\n",
              "    <tr style=\"text-align: right;\">\n",
              "      <th></th>\n",
              "      <th>id</th>\n",
              "      <th>radius_mean</th>\n",
              "      <th>texture_mean</th>\n",
              "      <th>perimeter_mean</th>\n",
              "      <th>area_mean</th>\n",
              "      <th>smoothness_mean</th>\n",
              "      <th>compactness_mean</th>\n",
              "      <th>concavity_mean</th>\n",
              "      <th>concave_points_mean</th>\n",
              "      <th>symmetry_mean</th>\n",
              "      <th>fractal_dimension_mean</th>\n",
              "      <th>radius_se</th>\n",
              "      <th>texture_se</th>\n",
              "      <th>perimeter_se</th>\n",
              "      <th>area_se</th>\n",
              "      <th>smoothness_se</th>\n",
              "      <th>compactness_se</th>\n",
              "      <th>concavity_se</th>\n",
              "      <th>concave_points_se</th>\n",
              "      <th>symmetry_se</th>\n",
              "      <th>fractal_dimension_se</th>\n",
              "      <th>radius_worst</th>\n",
              "      <th>texture_worst</th>\n",
              "      <th>perimeter_worst</th>\n",
              "      <th>area_worst</th>\n",
              "      <th>smoothness_worst</th>\n",
              "      <th>compactness_worst</th>\n",
              "      <th>concavity_worst</th>\n",
              "      <th>concave_points_worst</th>\n",
              "      <th>symmetry_worst</th>\n",
              "      <th>fractal_dimension_worst</th>\n",
              "    </tr>\n",
              "  </thead>\n",
              "  <tbody>\n",
              "    <tr>\n",
              "      <th>count</th>\n",
              "      <td>5.690000e+02</td>\n",
              "      <td>569.000000</td>\n",
              "      <td>569.000000</td>\n",
              "      <td>569.000000</td>\n",
              "      <td>569.000000</td>\n",
              "      <td>569.000000</td>\n",
              "      <td>569.000000</td>\n",
              "      <td>569.000000</td>\n",
              "      <td>569.000000</td>\n",
              "      <td>569.000000</td>\n",
              "      <td>569.000000</td>\n",
              "      <td>569.000000</td>\n",
              "      <td>569.000000</td>\n",
              "      <td>569.000000</td>\n",
              "      <td>569.000000</td>\n",
              "      <td>569.000000</td>\n",
              "      <td>569.000000</td>\n",
              "      <td>569.000000</td>\n",
              "      <td>569.000000</td>\n",
              "      <td>569.000000</td>\n",
              "      <td>569.000000</td>\n",
              "      <td>569.000000</td>\n",
              "      <td>569.000000</td>\n",
              "      <td>569.000000</td>\n",
              "      <td>569.000000</td>\n",
              "      <td>569.000000</td>\n",
              "      <td>569.000000</td>\n",
              "      <td>569.000000</td>\n",
              "      <td>569.000000</td>\n",
              "      <td>569.000000</td>\n",
              "      <td>569.000000</td>\n",
              "    </tr>\n",
              "    <tr>\n",
              "      <th>mean</th>\n",
              "      <td>3.037183e+07</td>\n",
              "      <td>14.127292</td>\n",
              "      <td>19.289649</td>\n",
              "      <td>91.969033</td>\n",
              "      <td>654.889104</td>\n",
              "      <td>0.096360</td>\n",
              "      <td>0.104341</td>\n",
              "      <td>0.088799</td>\n",
              "      <td>0.048919</td>\n",
              "      <td>0.181162</td>\n",
              "      <td>0.062798</td>\n",
              "      <td>0.405172</td>\n",
              "      <td>1.216853</td>\n",
              "      <td>2.866059</td>\n",
              "      <td>40.337079</td>\n",
              "      <td>0.007041</td>\n",
              "      <td>0.025478</td>\n",
              "      <td>0.031894</td>\n",
              "      <td>0.011796</td>\n",
              "      <td>0.020542</td>\n",
              "      <td>0.003795</td>\n",
              "      <td>16.269190</td>\n",
              "      <td>25.677223</td>\n",
              "      <td>107.261213</td>\n",
              "      <td>880.583128</td>\n",
              "      <td>0.132369</td>\n",
              "      <td>0.254265</td>\n",
              "      <td>0.272188</td>\n",
              "      <td>0.114606</td>\n",
              "      <td>0.290076</td>\n",
              "      <td>0.083946</td>\n",
              "    </tr>\n",
              "    <tr>\n",
              "      <th>std</th>\n",
              "      <td>1.250206e+08</td>\n",
              "      <td>3.524049</td>\n",
              "      <td>4.301036</td>\n",
              "      <td>24.298981</td>\n",
              "      <td>351.914129</td>\n",
              "      <td>0.014064</td>\n",
              "      <td>0.052813</td>\n",
              "      <td>0.079720</td>\n",
              "      <td>0.038803</td>\n",
              "      <td>0.027414</td>\n",
              "      <td>0.007060</td>\n",
              "      <td>0.277313</td>\n",
              "      <td>0.551648</td>\n",
              "      <td>2.021855</td>\n",
              "      <td>45.491006</td>\n",
              "      <td>0.003003</td>\n",
              "      <td>0.017908</td>\n",
              "      <td>0.030186</td>\n",
              "      <td>0.006170</td>\n",
              "      <td>0.008266</td>\n",
              "      <td>0.002646</td>\n",
              "      <td>4.833242</td>\n",
              "      <td>6.146258</td>\n",
              "      <td>33.602542</td>\n",
              "      <td>569.356993</td>\n",
              "      <td>0.022832</td>\n",
              "      <td>0.157336</td>\n",
              "      <td>0.208624</td>\n",
              "      <td>0.065732</td>\n",
              "      <td>0.061867</td>\n",
              "      <td>0.018061</td>\n",
              "    </tr>\n",
              "    <tr>\n",
              "      <th>min</th>\n",
              "      <td>8.670000e+03</td>\n",
              "      <td>6.981000</td>\n",
              "      <td>9.710000</td>\n",
              "      <td>43.790000</td>\n",
              "      <td>143.500000</td>\n",
              "      <td>0.052630</td>\n",
              "      <td>0.019380</td>\n",
              "      <td>0.000000</td>\n",
              "      <td>0.000000</td>\n",
              "      <td>0.106000</td>\n",
              "      <td>0.049960</td>\n",
              "      <td>0.111500</td>\n",
              "      <td>0.360200</td>\n",
              "      <td>0.757000</td>\n",
              "      <td>6.802000</td>\n",
              "      <td>0.001713</td>\n",
              "      <td>0.002252</td>\n",
              "      <td>0.000000</td>\n",
              "      <td>0.000000</td>\n",
              "      <td>0.007882</td>\n",
              "      <td>0.000895</td>\n",
              "      <td>7.930000</td>\n",
              "      <td>12.020000</td>\n",
              "      <td>50.410000</td>\n",
              "      <td>185.200000</td>\n",
              "      <td>0.071170</td>\n",
              "      <td>0.027290</td>\n",
              "      <td>0.000000</td>\n",
              "      <td>0.000000</td>\n",
              "      <td>0.156500</td>\n",
              "      <td>0.055040</td>\n",
              "    </tr>\n",
              "    <tr>\n",
              "      <th>25%</th>\n",
              "      <td>8.692180e+05</td>\n",
              "      <td>11.700000</td>\n",
              "      <td>16.170000</td>\n",
              "      <td>75.170000</td>\n",
              "      <td>420.300000</td>\n",
              "      <td>0.086370</td>\n",
              "      <td>0.064920</td>\n",
              "      <td>0.029560</td>\n",
              "      <td>0.020310</td>\n",
              "      <td>0.161900</td>\n",
              "      <td>0.057700</td>\n",
              "      <td>0.232400</td>\n",
              "      <td>0.833900</td>\n",
              "      <td>1.606000</td>\n",
              "      <td>17.850000</td>\n",
              "      <td>0.005169</td>\n",
              "      <td>0.013080</td>\n",
              "      <td>0.015090</td>\n",
              "      <td>0.007638</td>\n",
              "      <td>0.015160</td>\n",
              "      <td>0.002248</td>\n",
              "      <td>13.010000</td>\n",
              "      <td>21.080000</td>\n",
              "      <td>84.110000</td>\n",
              "      <td>515.300000</td>\n",
              "      <td>0.116600</td>\n",
              "      <td>0.147200</td>\n",
              "      <td>0.114500</td>\n",
              "      <td>0.064930</td>\n",
              "      <td>0.250400</td>\n",
              "      <td>0.071460</td>\n",
              "    </tr>\n",
              "    <tr>\n",
              "      <th>50%</th>\n",
              "      <td>9.060240e+05</td>\n",
              "      <td>13.370000</td>\n",
              "      <td>18.840000</td>\n",
              "      <td>86.240000</td>\n",
              "      <td>551.100000</td>\n",
              "      <td>0.095870</td>\n",
              "      <td>0.092630</td>\n",
              "      <td>0.061540</td>\n",
              "      <td>0.033500</td>\n",
              "      <td>0.179200</td>\n",
              "      <td>0.061540</td>\n",
              "      <td>0.324200</td>\n",
              "      <td>1.108000</td>\n",
              "      <td>2.287000</td>\n",
              "      <td>24.530000</td>\n",
              "      <td>0.006380</td>\n",
              "      <td>0.020450</td>\n",
              "      <td>0.025890</td>\n",
              "      <td>0.010930</td>\n",
              "      <td>0.018730</td>\n",
              "      <td>0.003187</td>\n",
              "      <td>14.970000</td>\n",
              "      <td>25.410000</td>\n",
              "      <td>97.660000</td>\n",
              "      <td>686.500000</td>\n",
              "      <td>0.131300</td>\n",
              "      <td>0.211900</td>\n",
              "      <td>0.226700</td>\n",
              "      <td>0.099930</td>\n",
              "      <td>0.282200</td>\n",
              "      <td>0.080040</td>\n",
              "    </tr>\n",
              "    <tr>\n",
              "      <th>75%</th>\n",
              "      <td>8.813129e+06</td>\n",
              "      <td>15.780000</td>\n",
              "      <td>21.800000</td>\n",
              "      <td>104.100000</td>\n",
              "      <td>782.700000</td>\n",
              "      <td>0.105300</td>\n",
              "      <td>0.130400</td>\n",
              "      <td>0.130700</td>\n",
              "      <td>0.074000</td>\n",
              "      <td>0.195700</td>\n",
              "      <td>0.066120</td>\n",
              "      <td>0.478900</td>\n",
              "      <td>1.474000</td>\n",
              "      <td>3.357000</td>\n",
              "      <td>45.190000</td>\n",
              "      <td>0.008146</td>\n",
              "      <td>0.032450</td>\n",
              "      <td>0.042050</td>\n",
              "      <td>0.014710</td>\n",
              "      <td>0.023480</td>\n",
              "      <td>0.004558</td>\n",
              "      <td>18.790000</td>\n",
              "      <td>29.720000</td>\n",
              "      <td>125.400000</td>\n",
              "      <td>1084.000000</td>\n",
              "      <td>0.146000</td>\n",
              "      <td>0.339100</td>\n",
              "      <td>0.382900</td>\n",
              "      <td>0.161400</td>\n",
              "      <td>0.317900</td>\n",
              "      <td>0.092080</td>\n",
              "    </tr>\n",
              "    <tr>\n",
              "      <th>max</th>\n",
              "      <td>9.113205e+08</td>\n",
              "      <td>28.110000</td>\n",
              "      <td>39.280000</td>\n",
              "      <td>188.500000</td>\n",
              "      <td>2501.000000</td>\n",
              "      <td>0.163400</td>\n",
              "      <td>0.345400</td>\n",
              "      <td>0.426800</td>\n",
              "      <td>0.201200</td>\n",
              "      <td>0.304000</td>\n",
              "      <td>0.097440</td>\n",
              "      <td>2.873000</td>\n",
              "      <td>4.885000</td>\n",
              "      <td>21.980000</td>\n",
              "      <td>542.200000</td>\n",
              "      <td>0.031130</td>\n",
              "      <td>0.135400</td>\n",
              "      <td>0.396000</td>\n",
              "      <td>0.052790</td>\n",
              "      <td>0.078950</td>\n",
              "      <td>0.029840</td>\n",
              "      <td>36.040000</td>\n",
              "      <td>49.540000</td>\n",
              "      <td>251.200000</td>\n",
              "      <td>4254.000000</td>\n",
              "      <td>0.222600</td>\n",
              "      <td>1.058000</td>\n",
              "      <td>1.252000</td>\n",
              "      <td>0.291000</td>\n",
              "      <td>0.663800</td>\n",
              "      <td>0.207500</td>\n",
              "    </tr>\n",
              "  </tbody>\n",
              "</table>\n",
              "</div>"
            ],
            "text/plain": [
              "                 id  radius_mean  ...  symmetry_worst  fractal_dimension_worst\n",
              "count  5.690000e+02   569.000000  ...      569.000000               569.000000\n",
              "mean   3.037183e+07    14.127292  ...        0.290076                 0.083946\n",
              "std    1.250206e+08     3.524049  ...        0.061867                 0.018061\n",
              "min    8.670000e+03     6.981000  ...        0.156500                 0.055040\n",
              "25%    8.692180e+05    11.700000  ...        0.250400                 0.071460\n",
              "50%    9.060240e+05    13.370000  ...        0.282200                 0.080040\n",
              "75%    8.813129e+06    15.780000  ...        0.317900                 0.092080\n",
              "max    9.113205e+08    28.110000  ...        0.663800                 0.207500\n",
              "\n",
              "[8 rows x 31 columns]"
            ]
          },
          "metadata": {
            "tags": []
          },
          "execution_count": 4
        }
      ]
    },
    {
      "cell_type": "code",
      "metadata": {
        "id": "lcs7YKF1p2bX",
        "colab_type": "code",
        "colab": {
          "base_uri": "https://localhost:8080/",
          "height": 285
        },
        "outputId": "c5ca6745-37d3-4544-bb8a-c47bd70bbebe"
      },
      "source": [
        "sns.set(style=\"darkgrid\")\n",
        "ax = sns.countplot(x='diagnosis', data=df)\n",
        "plt.show()"
      ],
      "execution_count": 11,
      "outputs": [
        {
          "output_type": "display_data",
          "data": {
            "image/png": "[encoded data removed]",
            "text/plain": [
              "<Figure size 432x288 with 1 Axes>"
            ]
          },
          "metadata": {
            "tags": []
          }
        }
      ]
    },
    {
      "cell_type": "code",
      "metadata": {
        "colab_type": "code",
        "id": "gUE2qbkVE7gx",
        "colab": {}
      },
      "source": [
        "# Features\n",
        "X = df.iloc[:,2:]"
      ],
      "execution_count": 12,
      "outputs": []
    },
    {
      "cell_type": "markdown",
      "metadata": {
        "id": "aPaQiM8qm3K-",
        "colab_type": "text"
      },
      "source": [
        "Label Encoding the target variable between 0 and 1"
      ]
    },
    {
      "cell_type": "code",
      "metadata": {
        "colab_type": "code",
        "id": "fwDth22NE85N",
        "colab": {
          "base_uri": "https://localhost:8080/",
          "height": 105
        },
        "outputId": "5f6f5ff2-d663-4da7-f851-915595d7d540"
      },
      "source": [
        "encoder = LabelEncoder()\n",
        "encoder.fit(df.iloc[:, 1:2])\n",
        "y = encoder.transform(df.iloc[:, 1:2])"
      ],
      "execution_count": 13,
      "outputs": [
        {
          "output_type": "stream",
          "text": [
            "/usr/local/lib/python3.6/dist-packages/sklearn/preprocessing/_label.py:235: DataConversionWarning: A column-vector y was passed when a 1d array was expected. Please change the shape of y to (n_samples, ), for example using ravel().\n",
            "  y = column_or_1d(y, warn=True)\n",
            "/usr/local/lib/python3.6/dist-packages/sklearn/preprocessing/_label.py:268: DataConversionWarning: A column-vector y was passed when a 1d array was expected. Please change the shape of y to (n_samples, ), for example using ravel().\n",
            "  y = column_or_1d(y, warn=True)\n"
          ],
          "name": "stderr"
        }
      ]
    },
    {
      "cell_type": "code",
      "metadata": {
        "colab_type": "code",
        "id": "XowhctxsE-EU",
        "colab": {}
      },
      "source": [
        "# Splitting Features and Labels in to Training and Testing subsets\n",
        "X_train, X_test, y_train, y_test = train_test_split(X, y, test_size = 0.20)"
      ],
      "execution_count": 14,
      "outputs": []
    },
    {
      "cell_type": "markdown",
      "metadata": {
        "id": "cnYDpf_fnyeu",
        "colab_type": "text"
      },
      "source": [
        "A decision tree is drawn upside down with its root at the top. In the image, the bold text in black represents a condition/internal node, based on which the tree splits into branches/ edges. The end of the branch that doesn’t split anymore is the decision/leaf, in this case, whether the passenger died or survived, represented as red and green text respectively.\n",
        "\n",
        "![1_XMId5sJqPtm8-RIwVVz2tg.png](data:image/png;base64,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)"
      ]
    },
    {
      "cell_type": "code",
      "metadata": {
        "colab_type": "code",
        "id": "eqzv-5S6E_cA",
        "colab": {}
      },
      "source": [
        "# Decision Tree Classifier\n",
        "model = tree.DecisionTreeClassifier(criterion='gini', max_depth=5)\n",
        "model = model.fit(X_train, y_train)"
      ],
      "execution_count": 50,
      "outputs": []
    },
    {
      "cell_type": "markdown",
      "metadata": {
        "id": "32YfB103mSR6",
        "colab_type": "text"
      },
      "source": [
        "If you want to know more about [sklearn Decison Tree Classifier](https://scikit-learn.org/stable/modules/generated/sklearn.tree.DecisionTreeClassifier.html)"
      ]
    },
    {
      "cell_type": "code",
      "metadata": {
        "colab_type": "code",
        "id": "PA92D_STFA4H",
        "colab": {
          "base_uri": "https://localhost:8080/",
          "height": 119
        },
        "outputId": "16d34fe9-7533-45a0-f4d1-9c1b64dd16dc"
      },
      "source": [
        "model.get_params"
      ],
      "execution_count": 51,
      "outputs": [
        {
          "output_type": "execute_result",
          "data": {
            "text/plain": [
              "<bound method BaseEstimator.get_params of DecisionTreeClassifier(ccp_alpha=0.0, class_weight=None, criterion='gini',\n",
              "                       max_depth=5, max_features=None, max_leaf_nodes=None,\n",
              "                       min_impurity_decrease=0.0, min_impurity_split=None,\n",
              "                       min_samples_leaf=1, min_samples_split=2,\n",
              "                       min_weight_fraction_leaf=0.0, presort='deprecated',\n",
              "                       random_state=None, splitter='best')>"
            ]
          },
          "metadata": {
            "tags": []
          },
          "execution_count": 51
        }
      ]
    },
    {
      "cell_type": "code",
      "metadata": {
        "colab_type": "code",
        "id": "mtNT9KUBFCct",
        "colab": {}
      },
      "source": [
        "# Predicting on both Training and Testing Data\n",
        "y_train_pred = model.predict(X_train)\n",
        "y_test_pred = model.predict(X_test)"
      ],
      "execution_count": 52,
      "outputs": []
    },
    {
      "cell_type": "code",
      "metadata": {
        "colab_type": "code",
        "id": "6pobE4JlFDxX",
        "colab": {}
      },
      "source": [
        "# Accuracy\n",
        "train_accuracy = accuracy_score(y_train, y_train_pred)\n",
        "test_accuracy = accuracy_score(y_test, y_test_pred)"
      ],
      "execution_count": 53,
      "outputs": []
    },
    {
      "cell_type": "code",
      "metadata": {
        "colab_type": "code",
        "id": "4tWuXwELFFHv",
        "colab": {
          "base_uri": "https://localhost:8080/",
          "height": 51
        },
        "outputId": "21361d54-a59d-402d-871f-579532c82635"
      },
      "source": [
        "print(\"Training Accuracy :\", train_accuracy)\n",
        "print(\"Testing Accuracy :\", test_accuracy)"
      ],
      "execution_count": 54,
      "outputs": [
        {
          "output_type": "stream",
          "text": [
            "Training Accuracy : 0.978021978021978\n",
            "Testing Accuracy : 0.956140350877193\n"
          ],
          "name": "stdout"
        }
      ]
    },
    {
      "cell_type": "markdown",
      "metadata": {
        "id": "RYWMY-JKmEi-",
        "colab_type": "text"
      },
      "source": [
        "### The code in the following cells is written by [brijml](https://github.com/brijml) "
      ]
    },
    {
      "cell_type": "markdown",
      "metadata": {
        "id": "Dm0yGSL8mEi_",
        "colab_type": "text"
      },
      "source": [
        "#### Use Thresholding method to convert the continuous valued features into binary features for the Naive Bayes model. A Naive Bayes model for Bernoulli distribution is a linear classifier"
      ]
    },
    {
      "cell_type": "code",
      "metadata": {
        "id": "jtbGDKCWmEjA",
        "colab_type": "code",
        "colab": {}
      },
      "source": [
        "def calc_threshold(data, attribute, n_bins=10):\n",
        "    malignant_counts, malignant_bins = np.histogram(data[data['diagnosis'] == 'M'][attribute], n_bins)\n",
        "    benign_counts, benign_bins = np.histogram(data[data['diagnosis'] == 'B'][attribute])\n",
        "    malignant_max_point = malignant_bins[np.argmax(malignant_counts)+1]\n",
        "    benign_max_point = benign_bins[np.argmax(benign_counts)+1]\n",
        "    return (malignant_max_point+benign_max_point)/2"
      ],
      "execution_count": 20,
      "outputs": []
    },
    {
      "cell_type": "markdown",
      "metadata": {
        "id": "9sMcDipemEjD",
        "colab_type": "text"
      },
      "source": [
        "### This is an example of how it works. The histogram for two classes clearly shows that the most of the values are concentrated around certain value with little mass crossing the threshold point."
      ]
    },
    {
      "cell_type": "code",
      "metadata": {
        "id": "XsG1oESUmEjE",
        "colab_type": "code",
        "colab": {
          "base_uri": "https://localhost:8080/",
          "height": 285
        },
        "outputId": "86d3fbcf-9c0b-46f7-f50e-139d855143f3"
      },
      "source": [
        "attribute = 'radius_mean'\n",
        "data = df.copy(deep=True)\n",
        "bins = np.linspace(data[attribute].min(), data[attribute].max(), 10)\n",
        "plt.hist(data[data['diagnosis'] == 'M'][attribute], bins=bins, label='malignant')\n",
        "plt.hist(data[data['diagnosis'] == 'B'][attribute], bins=bins, label='benign')\n",
        "threshold = calc_threshold(data, attribute)\n",
        "plt.plot([threshold, threshold], [0,300])\n",
        "plt.legend()"
      ],
      "execution_count": 21,
      "outputs": [
        {
          "output_type": "execute_result",
          "data": {
            "text/plain": [
              "<matplotlib.legend.Legend at 0x7efe7ad98978>"
            ]
          },
          "metadata": {
            "tags": []
          },
          "execution_count": 21
        },
        {
          "output_type": "display_data",
          "data": {
            "image/png": "[encoded data removed]",
            "text/plain": [
              "<Figure size 432x288 with 1 Axes>"
            ]
          },
          "metadata": {
            "tags": []
          }
        }
      ]
    },
    {
      "cell_type": "markdown",
      "metadata": {
        "id": "T4QYWUFHmEjI",
        "colab_type": "text"
      },
      "source": [
        "#### Lets fit a Naive Bayes classifier to the data by converting every feature to a binary feature"
      ]
    },
    {
      "cell_type": "code",
      "metadata": {
        "id": "HtBkDIRvmEjI",
        "colab_type": "code",
        "colab": {}
      },
      "source": [
        "for col in data.columns:\n",
        "    if col == 'diagnosis': continue\n",
        "    threshold = calc_threshold(data, col)\n",
        "    data.loc[(data[col] <= threshold),col] = 0\n",
        "    data.loc[(data[col] > threshold),col] = 1"
      ],
      "execution_count": 22,
      "outputs": []
    },
    {
      "cell_type": "code",
      "metadata": {
        "id": "mBV0I1c2mEjL",
        "colab_type": "code",
        "colab": {}
      },
      "source": [
        "y = np.array(data['diagnosis'])\n",
        "X = np.array(data.drop(columns='diagnosis'))\n",
        "X_train, X_test, y_train, y_test = train_test_split(X, y, test_size=0.2, shuffle=True)"
      ],
      "execution_count": 23,
      "outputs": []
    },
    {
      "cell_type": "code",
      "metadata": {
        "id": "ITefXC2lmEjO",
        "colab_type": "code",
        "colab": {
          "base_uri": "https://localhost:8080/",
          "height": 34
        },
        "outputId": "b69460b0-b6ab-4246-9460-172bd984dde1"
      },
      "source": [
        "clf = BernoulliNB()\n",
        "clf.fit(X_train, y_train)\n",
        "print(f\"accuracy: {clf.score(X_test, y_test) * 100}%\")"
      ],
      "execution_count": 24,
      "outputs": [
        {
          "output_type": "stream",
          "text": [
            "accuracy: 92.98245614035088%\n"
          ],
          "name": "stdout"
        }
      ]
    },
    {
      "cell_type": "code",
      "metadata": {
        "id": "2I_3a5CdmEjS",
        "colab_type": "code",
        "colab": {}
      },
      "source": [
        ""
      ],
      "execution_count": 24,
      "outputs": []
    }
  ]
}